{
 "cells": [
  {
   "cell_type": "code",
   "execution_count": 24,
   "id": "bb7607eb",
   "metadata": {},
   "outputs": [],
   "source": [
    "# Data visualisation courtesy of Dr C. Kahr of the University of Manchester. Written into a Juyipter notebook and minor changes including labelling axes and combining figures by L. Glover March 2023.\n",
    "\n",
    "import sys, os\n",
    "import matplotlib.pyplot as plt\n",
    "import matplotlib as mpl\n",
    "import numpy as np\n",
    "import math\n",
    "import pylab as pl\n",
    "\n",
    "# example of expanding dimensions\n",
    "from numpy import expand_dims    \n",
    "from matplotlib.colors import Normalize, LogNorm\n",
    "\n",
    "from mpl_toolkits.axes_grid1.axes_divider import make_axes_locatable"
   ]
  },
  {
   "cell_type": "code",
   "execution_count": 2,
   "id": "00a9179f",
   "metadata": {},
   "outputs": [],
   "source": [
    "def pad_image(image, max_size = (24,24)):\n",
    "    \"\"\"\n",
    "    Simply pad an image with zeros up to max_size.\n",
    "    \"\"\"\n",
    "    size = np.shape(image)\n",
    "    px, py = (max_size[0]-size[0]), (max_size[1]-size[1])\n",
    "    #print(\"image\",image.shape)\n",
    "    #print(\"image22\",int(np.floor(px/2.0)))\n",
    "    #print(\"image22\",int(np.ceil(px/2.0)))\n",
    "    #print(\"image33\",int(np.floor(py/2.0)))\n",
    "    #print(\"image33\",int(np.ceil(py/2.0)))\n",
    "    a1=int(np.floor(px/2.0))\n",
    "    a2=int(np.ceil(px/2.0))\n",
    "    a3=int(np.floor(py/2.0))\n",
    "    a4=int(np.ceil(py/2.0))\n",
    "    image = np.pad(image, ((a1, a2), (a3, a4)), 'constant', constant_values=(0))\n",
    "    #print(\"image1\",image.shape)\n",
    "    return image\n",
    "\n",
    "def normalize(histo, multi=255):\n",
    "    \"\"\"\n",
    "    Normalize picture in [0,multi] range, with integer steps. E.g. multi=255 for 256 steps.\n",
    "    \"\"\"\n",
    "    return (histo/np.max(histo)*multi).astype(int)"
   ]
  },
  {
   "cell_type": "code",
   "execution_count": 12,
   "id": "95d8ef1a",
   "metadata": {},
   "outputs": [],
   "source": [
    "etaran=(0, 25)\n",
    "phiran=(0, 25)\n",
    "vmin=1e-3\n",
    "vmax=5000\n",
    "extent = phiran + etaran\n",
    "\n",
    "notebook_path = os.path.abspath(\"data_visualiser.ipynb\")\n",
    "\n",
    "qcd_file_path = os.path.join(os.path.dirname(notebook_path), \"qcd_leading_jet.npz\")\n",
    "top_file_path = os.path.join(os.path.dirname(notebook_path), \"top_leading_jet.npz\")"
   ]
  },
  {
   "cell_type": "code",
   "execution_count": 13,
   "id": "53c8b08c",
   "metadata": {},
   "outputs": [],
   "source": [
    "# Load qcd data and process\n",
    "\n",
    "qcd_data = np.load(qcd_file_path,allow_pickle=True,encoding = 'latin1')['arr_0']\n",
    "qcd_data = np.delete(qcd_data, np.s_[1:10714],0)\n",
    "\n",
    "# pad and normalize images\n",
    "x_data_qcd = list(map(pad_image, qcd_data))\n",
    "x_data_qcd = list(map(normalize, x_data_qcd))\n",
    "\n",
    "av_array_qcd = np.mean(x_data, axis=0)"
   ]
  },
  {
   "cell_type": "code",
   "execution_count": 14,
   "id": "ece2d89d",
   "metadata": {},
   "outputs": [],
   "source": [
    "# Load top data and process\n",
    "\n",
    "top_data = np.load(top_file_path,allow_pickle=True,encoding = 'latin1')['arr_0']\n",
    "top_data = np.delete(top_data, np.s_[1:11762],0)\n",
    "\n",
    "# pad and normalize images\n",
    "x_data_top = list(map(pad_image, top_data))\n",
    "x_data_top = list(map(normalize, x_data_top))\n",
    "\n",
    "av_array_top = np.mean(x_data_top, axis=0)"
   ]
  },
  {
   "cell_type": "code",
   "execution_count": 51,
   "id": "6c835163",
   "metadata": {},
   "outputs": [],
   "source": [
    "fig, (ax_qcd, ax_top) = plt.subplots(1, 2)\n",
    "fig.tight_layout(pad=4.0)\n",
    "\n",
    "im_qcd = ax_qcd.imshow(av_array_qcd, interpolation='nearest', norm=LogNorm(vmin=vmin, vmax=vmax), extent=extent,\n",
    "               cmap='nipy_spectral')\n",
    "\n",
    "# Divide our axis and partition a little bit on the right to add our colorbar.\n",
    "ax_qcd_divider = make_axes_locatable(ax_qcd)\n",
    "cax1 = ax_qcd_divider.append_axes(\"right\", size=\"7%\", pad=\"2%\")\n",
    "cb1 = fig.colorbar(im_qcd, cax=cax1)\n",
    "\n",
    "im_top = ax_top.imshow(av_array_qcd, interpolation='nearest', norm=LogNorm(vmin=vmin, vmax=vmax), extent=extent,\n",
    "               cmap='nipy_spectral')\n",
    "\n",
    "ax_top_divider = make_axes_locatable(ax_top)\n",
    "cax2 = ax_top_divider.append_axes(\"right\", size=\"7%\", pad=\"2%\")\n",
    "cb2 = fig.colorbar(im_top, cax=cax2)\n",
    "\n",
    "ax_qcd.set_title(\"QCD Jet\")\n",
    "ax_qcd.set_xlabel('$\\eta$')\n",
    "ax_qcd.set_ylabel('$\\phi$')\n",
    "\n",
    "ax_top.set_title(\"Top Jet\")\n",
    "ax_top.set_xlabel('$\\eta$')\n",
    "ax_top.set_ylabel('$\\phi$')\n",
    "\n",
    "fig.savefig(\"Visualisation of Data.pdf\", format='pdf')\n",
    "plt.close(fig)"
   ]
  }
 ],
 "metadata": {
  "kernelspec": {
   "display_name": "Python 3 (ipykernel)",
   "language": "python",
   "name": "python3"
  },
  "language_info": {
   "codemirror_mode": {
    "name": "ipython",
    "version": 3
   },
   "file_extension": ".py",
   "mimetype": "text/x-python",
   "name": "python",
   "nbconvert_exporter": "python",
   "pygments_lexer": "ipython3",
   "version": "3.9.13"
  }
 },
 "nbformat": 4,
 "nbformat_minor": 5
}
